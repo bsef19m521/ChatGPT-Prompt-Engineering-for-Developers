{
 "cells": [
  {
   "cell_type": "code",
   "execution_count": null,
   "id": "6507f21f",
   "metadata": {},
   "outputs": [],
   "source": []
  },
  {
   "cell_type": "markdown",
   "id": "17112e8c",
   "metadata": {},
   "source": [
    "<h2 align='center'>Large Language Models</h2>"
   ]
  },
  {
   "cell_type": "markdown",
   "id": "31e9db46",
   "metadata": {},
   "source": [
    "<img src=\"../docs/LLM.svg\" align='center'>"
   ]
  },
  {
   "cell_type": "code",
   "execution_count": null,
   "id": "dfb589d3",
   "metadata": {},
   "outputs": [],
   "source": []
  },
  {
   "cell_type": "code",
   "execution_count": null,
   "id": "78f88e09",
   "metadata": {},
   "outputs": [],
   "source": []
  },
  {
   "cell_type": "code",
   "execution_count": null,
   "id": "1f9060eb",
   "metadata": {},
   "outputs": [],
   "source": []
  }
 ],
 "metadata": {
  "kernelspec": {
   "display_name": "Python 3 (ipykernel)",
   "language": "python",
   "name": "python3"
  },
  "language_info": {
   "codemirror_mode": {
    "name": "ipython",
    "version": 3
   },
   "file_extension": ".py",
   "mimetype": "text/x-python",
   "name": "python",
   "nbconvert_exporter": "python",
   "pygments_lexer": "ipython3",
   "version": "3.8.10"
  }
 },
 "nbformat": 4,
 "nbformat_minor": 5
}
